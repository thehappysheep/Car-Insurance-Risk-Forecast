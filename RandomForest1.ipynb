{
 "cells": [
  {
   "cell_type": "markdown",
   "metadata": {},
   "source": [
    "#  汽车投保风险回归预测\n",
    "## 随机森林"
   ]
  },
  {
   "cell_type": "code",
   "execution_count": 154,
   "metadata": {},
   "outputs": [],
   "source": [
    "# 随机森林\n",
    "import pandas as pd \n",
    "import numpy as np\n",
    "# 导入数据,查看数结构\n",
    "train = pd.read_csv(\"data/train.csv\")\n",
    "test = pd.read_csv(\"data/test.csv\")\n",
    "# train.head()"
   ]
  },
  {
   "cell_type": "code",
   "execution_count": 155,
   "metadata": {},
   "outputs": [],
   "source": [
    "# 定义预处理函数\n",
    "def data_pre(data):\n",
    "    data = data.drop([\"Id\"], axis = 1)#分离出train数据\n",
    "    object_col = data.select_dtypes(include=[\"object\"])\n",
    "    # pd.get_dummmies(虚拟的傀儡)该方法可以把类别变量转换成新增的虚拟变量/指示变量\n",
    "    #字符如果有大小区分可以使用字典映射，如果只是类别的关系可以使用get_dummies()函数\n",
    "    dummy_data = pd.get_dummies(object_col)\n",
    "    data = data.drop(object_col, axis = 1)\n",
    "    data = pd.concat([data, dummy_data], axis = 1)\n",
    "    return data"
   ]
  },
  {
   "cell_type": "code",
   "execution_count": 156,
   "metadata": {},
   "outputs": [],
   "source": [
    "# #数据转化\n",
    "train_data = data_pre(train).drop([\"Score\"], axis = 1)\n",
    "train_target = data[\"Score\"]\n",
    "test_data = data_pre(test)\n",
    "# test_data.info()"
   ]
  },
  {
   "cell_type": "code",
   "execution_count": 157,
   "metadata": {},
   "outputs": [],
   "source": [
    "# 构建随机森林函数模型\n",
    "from sklearn.ensemble import RandomForestRegressor\n",
    "rf = RandomForestRegressor(n_estimators=10,n_jobs=-1, max_features=\"auto\"\n",
    "                           ,min_samples_leaf = 50)\n",
    "rf.fit(train_data, train_target)\n",
    "predictions = rf.predict(test_data)\n",
    "submission_data = pd.DataFrame({\"Id\":test[\"Id\"],\n",
    "                                \"Score\":predictions\n",
    "                                })\n",
    "submission_data.to_csv(\"submission1.csv\",index=False)"
   ]
  },
  {
   "cell_type": "code",
   "execution_count": null,
   "metadata": {},
   "outputs": [],
   "source": []
  }
 ],
 "metadata": {
  "kernelspec": {
   "display_name": "Python 3",
   "language": "python",
   "name": "python3"
  },
  "language_info": {
   "codemirror_mode": {
    "name": "ipython",
    "version": 3
   },
   "file_extension": ".py",
   "mimetype": "text/x-python",
   "name": "python",
   "nbconvert_exporter": "python",
   "pygments_lexer": "ipython3",
   "version": "3.6.4"
  }
 },
 "nbformat": 4,
 "nbformat_minor": 2
}
